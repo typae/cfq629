{
 "cells": [
  {
   "cell_type": "code",
   "execution_count": 1,
   "metadata": {},
   "outputs": [],
   "source": [
    "%matplotlib inline\n",
    "import pandas as pd\n",
    "import math\n",
    "import numpy as np\n",
    "import random\n",
    "import time\n",
    "import itertools\n",
    "import functools\n",
    "from scipy import special, stats\n",
    "import datetime as dt\n",
    "import cProfile\n",
    "from math import sqrt\n",
    "import statsmodels.stats.api as sms\n",
    "from statsmodels import stats as sm"
   ]
  },
  {
   "cell_type": "code",
   "execution_count": 19,
   "metadata": {},
   "outputs": [
    {
     "data": {
      "text/plain": [
       "0.0886"
      ]
     },
     "execution_count": 19,
     "metadata": {},
     "output_type": "execute_result"
    }
   ],
   "source": [
    "import math\n",
    "def sample_std(n, p):\n",
    "    if n* p < 10 or n * (1-p) < 10:\n",
    "        raise ValueError('not an aproximately normal distribution(sample size is too small)')\n",
    "    return round(math.sqrt( p*(1-p)/n ), 4)\n",
    "sample_std(30, 0.62)"
   ]
  },
  {
   "cell_type": "code",
   "execution_count": null,
   "metadata": {},
   "outputs": [],
   "source": [
    "mean = 2.7 # number of people\n",
    "variance = 1.2\n",
    "# cross_the_bridge = 3 + 0.5 * mean\n",
    "new_mean = 3 + 0.5*mean\n",
    "new_variance = math.sqrt(0.5 * variance)\n",
    "\n",
    "print(new_mean, new_variance)"
   ]
  },
  {
   "cell_type": "code",
   "execution_count": null,
   "metadata": {},
   "outputs": [],
   "source": [
    "x, y = 12, 19\n",
    "(x ** 2 + y ** 2, (x + y)**2)"
   ]
  },
  {
   "cell_type": "code",
   "execution_count": null,
   "metadata": {},
   "outputs": [],
   "source": [
    "( 3*(1/4)*((3/4)**2) ) + ( 3 *((1/4)**2) * (3/4) ) + ( (1/4)**3 ) "
   ]
  },
  {
   "cell_type": "code",
   "execution_count": null,
   "metadata": {},
   "outputs": [],
   "source": [
    "deck = ['a', 'b', 'c', 'd'] * 13\n",
    "random.shuffle(deck)"
   ]
  },
  {
   "cell_type": "code",
   "execution_count": null,
   "metadata": {},
   "outputs": [],
   "source": [
    "SUCCESS = 1\n",
    "FAIL = 2\n",
    "REPETITIONS = 10000\n",
    "rez = []\n",
    "for _ in range(REPETITIONS):   \n",
    "    if [random.choice(deck) for _ in range(3)].count('c') == 1:\n",
    "        rez.append(SUCCESS)\n",
    "    else:\n",
    "        rez.append(FAIL)\n"
   ]
  },
  {
   "cell_type": "code",
   "execution_count": null,
   "metadata": {},
   "outputs": [],
   "source": [
    "rez.count(SUCCESS) / REPETITIONS"
   ]
  },
  {
   "cell_type": "code",
   "execution_count": null,
   "metadata": {},
   "outputs": [],
   "source": [
    "n, k = 10, 4\n",
    "math.factorial(n) / (math.factorial(k) * math.factorial(n-k))"
   ]
  },
  {
   "cell_type": "code",
   "execution_count": null,
   "metadata": {},
   "outputs": [],
   "source": [
    "len(list(itertools.product('ab', repeat=12)))"
   ]
  },
  {
   "cell_type": "code",
   "execution_count": null,
   "metadata": {},
   "outputs": [],
   "source": [
    "# probability of binomial variable x\n",
    "n = 50\n",
    "x = 45\n",
    "success_outcomes = int(special.comb(n, x))\n",
    "p_of_successs = 0.9\n",
    "success_outcomes * (p_of_successs**x) * ((1-p_of_successs)**(n-x))"
   ]
  },
  {
   "cell_type": "code",
   "execution_count": null,
   "metadata": {},
   "outputs": [],
   "source": [
    "n = 50\n",
    "x = 45\n",
    "p_of_successs = 0.9\n",
    "acc_p = 0\n",
    "for j in range(0,  x+1):\n",
    "    success_outcomes = int(special.comb(n, j))\n",
    "    acc_p += success_outcomes * (p_of_successs**j) * ((1-p_of_successs)**(n-j))\n",
    "1 - round(acc_p, 4)"
   ]
  },
  {
   "cell_type": "code",
   "execution_count": null,
   "metadata": {},
   "outputs": [],
   "source": [
    "seats = 45\n",
    "tickets_to_sell = None # ?\n",
    "objection_p_overseats = 0.05 # lte\n",
    "p_passenger_arrive = 0.9\n",
    "# tickets "
   ]
  },
  {
   "cell_type": "code",
   "execution_count": null,
   "metadata": {},
   "outputs": [],
   "source": [
    "# goal: find p_1_2 large, p_3+ small \n",
    "p = 0.2 # probability of success\n",
    "n = 10\n",
    "x = 4\n",
    "success_outcomes = special.binom(n, x)\n",
    "success_outcomes * (p**x) * ( (1-p)**(n-x) )"
   ]
  },
  {
   "cell_type": "code",
   "execution_count": null,
   "metadata": {},
   "outputs": [],
   "source": [
    "s = stats.binom(120, 0.1)\n",
    "s.pmf(range(3, 11)).sum()"
   ]
  },
  {
   "cell_type": "code",
   "execution_count": null,
   "metadata": {},
   "outputs": [],
   "source": [
    "n = 120\n",
    "p = .1\n",
    "rv = dict()\n",
    "for x in range(0, 121):    \n",
    "    p_x = round(scipy.stats.binom(n, p).pmf(x), 10)\n",
    "    if p_x > 0:\n",
    "        rv[x] = p_x \n",
    "df = pd.DataFrame.from_records([rv]).T\n",
    "df.head()"
   ]
  },
  {
   "cell_type": "code",
   "execution_count": null,
   "metadata": {},
   "outputs": [],
   "source": [
    "stats.binom.std(n=750, p=.7), stats.binom.mean(n=750, p=.7)"
   ]
  },
  {
   "cell_type": "code",
   "execution_count": null,
   "metadata": {},
   "outputs": [],
   "source": [
    "q = np.array([5, 4, 7, 1, 9])\n",
    "w = np.array([5163, 4234, 7332, 1290, 9296])"
   ]
  },
  {
   "cell_type": "code",
   "execution_count": null,
   "metadata": {},
   "outputs": [],
   "source": [
    "pd.DataFrame(q).plot()\n"
   ]
  },
  {
   "cell_type": "code",
   "execution_count": null,
   "metadata": {},
   "outputs": [],
   "source": [
    "pd.DataFrame(w * (q.mean() / w.mean())).plot()"
   ]
  },
  {
   "cell_type": "code",
   "execution_count": null,
   "metadata": {},
   "outputs": [],
   "source": [
    "q = np.log10(q)\n",
    "w = np.log10(w)"
   ]
  },
  {
   "cell_type": "code",
   "execution_count": null,
   "metadata": {},
   "outputs": [],
   "source": [
    "q, w"
   ]
  },
  {
   "cell_type": "code",
   "execution_count": null,
   "metadata": {},
   "outputs": [],
   "source": [
    "math.log10(q)"
   ]
  },
  {
   "cell_type": "code",
   "execution_count": null,
   "metadata": {},
   "outputs": [],
   "source": [
    "from operator import add, sub\n",
    "\n",
    "def answer(n,  steps = 0):\n",
    "    if n <= 1:\n",
    "            return steps\n",
    "        \n",
    "    if not n%2==0:               \n",
    "        if add(n, 1) / 2 / 2 % 2 == 0:\n",
    "            n = add(n, 1)\n",
    "        else:\n",
    "            n = sub(n, 1)       \n",
    "        steps += 1\n",
    "        \n",
    "    return some(n/2, steps+1)\n",
    "\n",
    "answer(15)\n"
   ]
  },
  {
   "cell_type": "code",
   "execution_count": null,
   "metadata": {},
   "outputs": [],
   "source": [
    "for i in range(1, 30):   \n",
    "    x = round(math.sqrt(i)) + 1\n",
    "    if some(i) != x:\n",
    "        print(some(i), x)"
   ]
  },
  {
   "cell_type": "code",
   "execution_count": null,
   "metadata": {},
   "outputs": [],
   "source": [
    "math.sqrt(15)"
   ]
  },
  {
   "cell_type": "code",
   "execution_count": null,
   "metadata": {},
   "outputs": [],
   "source": [
    "from operator import add, sub\n",
    "def answer(n, steps = 0):   \n",
    "    n = int(n)\n",
    "    if n <= 1:\n",
    "        return steps \n",
    "    if not n%2==0:               \n",
    "        if add(n, 1) / 2 / 2 % 2 == 0:\n",
    "            n = add(n, 1)\n",
    "        else:\n",
    "            n = sub(n, 1)       \n",
    "        steps += 1        \n",
    "    return answer(n/2, steps+1)\n"
   ]
  },
  {
   "cell_type": "code",
   "execution_count": 42,
   "metadata": {},
   "outputs": [
    {
     "name": "stdout",
     "output_type": "stream",
     "text": [
      "\t\t\tmoskva24  2018-10-19\n",
      "\n"
     ]
    }
   ],
   "source": [
    "date = dt.date(2018,10,19)\n",
    "zxc = 'moskva24'\n",
    "title = f'\\t\\t\\t{zxc}  {date:%Y-%m-%d}\\n'\n",
    "print(title)"
   ]
  },
  {
   "cell_type": "code",
   "execution_count": 61,
   "metadata": {},
   "outputs": [
    {
     "data": {
      "text/plain": [
       "2.6"
      ]
     },
     "execution_count": 61,
     "metadata": {},
     "output_type": "execute_result"
    }
   ],
   "source": [
    "mean = 27\n",
    "std = 4\n",
    "x = 22.5\n",
    "z = 2.6\n",
    "#z = (x - mean) / std\n",
    "z"
   ]
  },
  {
   "cell_type": "code",
   "execution_count": 62,
   "metadata": {},
   "outputs": [
    {
     "data": {
      "text/plain": [
       "37.4"
      ]
     },
     "execution_count": 62,
     "metadata": {},
     "output_type": "execute_result"
    }
   ],
   "source": [
    "#z = (x - mean) / std\n",
    "x = mean + z * std\n",
    "x"
   ]
  },
  {
   "cell_type": "code",
   "execution_count": 21,
   "metadata": {},
   "outputs": [
    {
     "data": {
      "text/plain": [
       "(0.07656372550983476, 0.016062285603828275, 0.7160232282490884)"
      ]
     },
     "execution_count": 21,
     "metadata": {},
     "output_type": "execute_result"
    }
   ],
   "source": [
    "mean = 69\n",
    "std = 2.8\n",
    "lt = 65\n",
    "gt = 75\n",
    "l, h = 66, 72 # 66 < x < 72\n",
    "male_height_distribution = stats.norm(loc=mean, scale=std)\n",
    "a1 = male_height_distribution.cdf(lt) \n",
    "a2 = 1 - male_height_distribution.cdf(gt)\n",
    "a3 =   male_height_distribution.cdf(h) - male_height_distribution.cdf(l)\n",
    "a1, a2, a3"
   ]
  },
  {
   "cell_type": "code",
   "execution_count": 4,
   "metadata": {},
   "outputs": [
    {
     "data": {
      "text/plain": [
       "(61.78767795006308, 76.85969455136267)"
      ]
     },
     "execution_count": 4,
     "metadata": {},
     "output_type": "execute_result"
    }
   ],
   "source": [
    "mean = 69\n",
    "std = 2.8\n",
    "lt=0.005\n",
    "gt = 0.0025\n",
    "\n",
    "sat_score = stats.norm(loc=mean, scale=std)\n",
    "sat_score.ppf(lt), sat_score.ppf(1 - gt)\n"
   ]
  },
  {
   "cell_type": "code",
   "execution_count": 24,
   "metadata": {},
   "outputs": [
    {
     "data": {
      "text/plain": [
       "0.15495562770889987"
      ]
     },
     "execution_count": 24,
     "metadata": {},
     "output_type": "execute_result"
    }
   ],
   "source": [
    "stats.norm(loc=0.1, scale=0.02).ppf(0.997)"
   ]
  },
  {
   "cell_type": "code",
   "execution_count": null,
   "metadata": {},
   "outputs": [],
   "source": [
    "stats.norm(loc=0.6, scale=0.05).cdf(0.56)"
   ]
  },
  {
   "cell_type": "code",
   "execution_count": 22,
   "metadata": {},
   "outputs": [
    {
     "data": {
      "text/plain": [
       "0.02"
      ]
     },
     "execution_count": 22,
     "metadata": {},
     "output_type": "execute_result"
    }
   ],
   "source": [
    "p = 0.1\n",
    "n = 225\n",
    "std =  math.sqrt(p*(1-p)/n)\n",
    "std"
   ]
  },
  {
   "cell_type": "code",
   "execution_count": 32,
   "metadata": {},
   "outputs": [
    {
     "data": {
      "text/plain": [
       "2.7386127875258306"
      ]
     },
     "execution_count": 32,
     "metadata": {},
     "output_type": "execute_result"
    }
   ],
   "source": [
    "std  = 15/sqrt(36)\n",
    "std"
   ]
  },
  {
   "cell_type": "code",
   "execution_count": 34,
   "metadata": {},
   "outputs": [
    {
     "name": "stdout",
     "output_type": "stream",
     "text": [
      "0.6704918032786885 0.6858267716535433\n"
     ]
    }
   ],
   "source": [
    "f = 1220\n",
    "m = 1320\n",
    "fr = 818\n",
    "mr = 924\n",
    "print(\n",
    "    fr / f,\n",
    "    (fr + mr) / (f + m)\n",
    ")"
   ]
  },
  {
   "cell_type": "code",
   "execution_count": 2,
   "metadata": {},
   "outputs": [
    {
     "data": {
      "text/plain": [
       "1.4985372985307104"
      ]
     },
     "execution_count": 2,
     "metadata": {},
     "output_type": "execute_result"
    }
   ],
   "source": [
    "std = 16\n",
    "n = 114\n",
    "confidence = std / sqrt(n)\n",
    "confidence"
   ]
  },
  {
   "cell_type": "code",
   "execution_count": 29,
   "metadata": {},
   "outputs": [
    {
     "data": {
      "text/plain": [
       "(2996.1654115765746, 3226.5545884234257)"
      ]
     },
     "execution_count": 29,
     "metadata": {},
     "output_type": "execute_result"
    }
   ],
   "source": [
    "# confidence interval when std is known\n",
    "# z for 99% is 2.65\n",
    "link = ('https://lagunita.stanford.edu/assets/courseware/v1/a0a2003682e942cbdb584cef96335492/asset-v1:O' +\n",
    "        'LI+ProbStat+Open_Jan2017+type@asset+block/birthweight.xls')\n",
    "df = pd.read_excel(link)\n",
    "q = np.array(df.Birthweight)\n",
    "std = 500 #sigma\n",
    "mean = q.mean() # mu\n",
    "n = len(q)\n",
    "stats.norm.interval(0.99, loc=mean, scale=std/sqrt(n))"
   ]
  },
  {
   "cell_type": "code",
   "execution_count": 3,
   "metadata": {},
   "outputs": [],
   "source": [
    "# confidence interval when std is unknown\n",
    "link = ('https://lagunita.stanford.edu/assets/courseware/v1/cd20150c17f359746262e572abc2541c/asset-v1:OLI+Prob' +\n",
    "        'Stat+Open_Jan2017+type@asset+block/sleep.xls')\n",
    "df = pd.read_excel(link)\n",
    "mean = df.Sleep.mean()\n",
    "n = len(df.Sleep)\n",
    "standard_error = stats.sem(df.Sleep)"
   ]
  },
  {
   "cell_type": "code",
   "execution_count": 7,
   "metadata": {},
   "outputs": [
    {
     "data": {
      "text/plain": [
       "(7.090439437851873, 7.620828167781929)"
      ]
     },
     "execution_count": 7,
     "metadata": {},
     "output_type": "execute_result"
    }
   ],
   "source": [
    "stats.t.interval(0.95, n-1, loc=mean, scale=standard_error)\n",
    "#or\n",
    "import statsmodels.stats.api as sms\n",
    "sms.DescrStatsW(df.Sleep).tconfint_mean()\n"
   ]
  },
  {
   "cell_type": "code",
   "execution_count": 79,
   "metadata": {},
   "outputs": [
    {
     "data": {
      "text/html": [
       "<div>\n",
       "<style scoped>\n",
       "    .dataframe tbody tr th:only-of-type {\n",
       "        vertical-align: middle;\n",
       "    }\n",
       "\n",
       "    .dataframe tbody tr th {\n",
       "        vertical-align: top;\n",
       "    }\n",
       "\n",
       "    .dataframe thead th {\n",
       "        text-align: right;\n",
       "    }\n",
       "</style>\n",
       "<table border=\"1\" class=\"dataframe\">\n",
       "  <thead>\n",
       "    <tr style=\"text-align: right;\">\n",
       "      <th></th>\n",
       "      <th>q</th>\n",
       "    </tr>\n",
       "  </thead>\n",
       "  <tbody>\n",
       "    <tr>\n",
       "      <th>0</th>\n",
       "      <td>1</td>\n",
       "    </tr>\n",
       "    <tr>\n",
       "      <th>1</th>\n",
       "      <td>0</td>\n",
       "    </tr>\n",
       "    <tr>\n",
       "      <th>2</th>\n",
       "      <td>0</td>\n",
       "    </tr>\n",
       "    <tr>\n",
       "      <th>3</th>\n",
       "      <td>0</td>\n",
       "    </tr>\n",
       "    <tr>\n",
       "      <th>4</th>\n",
       "      <td>0</td>\n",
       "    </tr>\n",
       "  </tbody>\n",
       "</table>\n",
       "</div>"
      ],
      "text/plain": [
       "   q\n",
       "0  1\n",
       "1  0\n",
       "2  0\n",
       "3  0\n",
       "4  0"
      ]
     },
     "execution_count": 79,
     "metadata": {},
     "output_type": "execute_result"
    }
   ],
   "source": [
    "# confidence interval for sample proportion \n",
    "link = ('https://lagunita.stanford.edu/assets/courseware/v1/ff2d1e6f14860c811867993845de338e/asset-v1:OLI+Prob' +\n",
    "        'Stat+Open_Jan2017+type@asset+block/guns.xls')\n",
    "df = pd.read_excel(link)\n",
    "df.columns = ['q']\n",
    "df.head()"
   ]
  },
  {
   "cell_type": "code",
   "execution_count": 71,
   "metadata": {},
   "outputs": [
    {
     "data": {
      "text/plain": [
       "'confidence interval is 0.12 ± 0.02'"
      ]
     },
     "execution_count": 71,
     "metadata": {},
     "output_type": "execute_result"
    }
   ],
   "source": [
    "n = 1199\n",
    "success = 142\n",
    "sample_proportion = success/n\n",
    "z = 2 #95%\n",
    "conf_interval = z * sqrt( (sample_proportion * (1 - sample_proportion) / n) )\n",
    "f'confidence interval is {sample_proportion:.2f} \\u00B1 {conf_interval:.2f}'"
   ]
  },
  {
   "cell_type": "code",
   "execution_count": 89,
   "metadata": {},
   "outputs": [
    {
     "data": {
      "text/plain": [
       "'confidence interval is 0.10 - 0.14'"
      ]
     },
     "execution_count": 89,
     "metadata": {},
     "output_type": "execute_result"
    }
   ],
   "source": [
    "interval = sm.proportion.proportion_confint(count=success, nobs=n, alpha=0.05)\n",
    "f'confidence interval is {interval[0]:.2f} - {interval[1]:.2f}'"
   ]
  },
  {
   "cell_type": "code",
   "execution_count": 67,
   "metadata": {},
   "outputs": [],
   "source": [
    "population = np.append(np.random.randint(1, 10, 60), 9999)\n",
    "sample = np.random.choice(population, 50)\n",
    "\n",
    "\n"
   ]
  },
  {
   "cell_type": "code",
   "execution_count": 68,
   "metadata": {},
   "outputs": [
    {
     "name": "stdout",
     "output_type": "stream",
     "text": [
      "5.62 2.489096221522985\n"
     ]
    },
    {
     "data": {
      "text/plain": [
       "(4.9054248395666775, 6.334575160433323)"
      ]
     },
     "execution_count": 68,
     "metadata": {},
     "output_type": "execute_result"
    }
   ],
   "source": [
    "print(sample.mean(), sample.std())\n",
    "\n",
    "sms.DescrStatsW(sample).tconfint_mean()"
   ]
  },
  {
   "cell_type": "code",
   "execution_count": 23,
   "metadata": {},
   "outputs": [
    {
     "data": {
      "text/plain": [
       "169.55737704918033"
      ]
     },
     "execution_count": 23,
     "metadata": {},
     "output_type": "execute_result"
    }
   ],
   "source": [
    "population.mean() "
   ]
  },
  {
   "cell_type": "code",
   "execution_count": 2,
   "metadata": {},
   "outputs": [
    {
     "data": {
      "text/plain": [
       "0.16"
      ]
     },
     "execution_count": 2,
     "metadata": {},
     "output_type": "execute_result"
    }
   ],
   "source": [
    "64/400"
   ]
  },
  {
   "cell_type": "code",
   "execution_count": null,
   "metadata": {},
   "outputs": [],
   "source": []
  }
 ],
 "metadata": {
  "kernelspec": {
   "display_name": "Python 3",
   "language": "python",
   "name": "python3"
  },
  "language_info": {
   "codemirror_mode": {
    "name": "ipython",
    "version": 3
   },
   "file_extension": ".py",
   "mimetype": "text/x-python",
   "name": "python",
   "nbconvert_exporter": "python",
   "pygments_lexer": "ipython3",
   "version": "3.6.5"
  }
 },
 "nbformat": 4,
 "nbformat_minor": 2
}
